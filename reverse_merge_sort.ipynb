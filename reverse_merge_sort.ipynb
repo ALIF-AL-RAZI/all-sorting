{
  "nbformat": 4,
  "nbformat_minor": 0,
  "metadata": {
    "colab": {
      "provenance": [],
      "authorship_tag": "ABX9TyNFAVZ0DbwXyCiCyrESKQQ5",
      "include_colab_link": true
    },
    "kernelspec": {
      "name": "python3",
      "display_name": "Python 3"
    },
    "language_info": {
      "name": "python"
    }
  },
  "cells": [
    {
      "cell_type": "markdown",
      "metadata": {
        "id": "view-in-github",
        "colab_type": "text"
      },
      "source": [
        "<a href=\"https://colab.research.google.com/github/ALIF-AL-RAZI/all-sorting/blob/main/reverse_merge_sort.ipynb\" target=\"_parent\"><img src=\"https://colab.research.google.com/assets/colab-badge.svg\" alt=\"Open In Colab\"/></a>"
      ]
    },
    {
      "cell_type": "code",
      "source": [
        "# for i in range(23, 10, -1):\n",
        "#   print(i)"
      ],
      "metadata": {
        "colab": {
          "base_uri": "https://localhost:8080/"
        },
        "id": "O-kPXr2aQP-W",
        "outputId": "652ec494-d7c4-4420-eb84-bb19b42c1c95"
      },
      "execution_count": null,
      "outputs": [
        {
          "output_type": "stream",
          "name": "stdout",
          "text": [
            "23\n",
            "22\n",
            "21\n",
            "20\n",
            "19\n",
            "18\n",
            "17\n",
            "16\n",
            "15\n",
            "14\n",
            "13\n",
            "12\n",
            "11\n"
          ]
        }
      ]
    },
    {
      "cell_type": "code",
      "source": [
        "# def bubblesort(nums) :\n",
        "#   for i in range(len(nums)-1, 0 , -1):\n",
        "#     for j in range(i):\n",
        "#       if nums[j]<nums[j+1]:\n",
        "#         nums[j], nums[j+1] = nums[j+1], nums[j]\n",
        "#   return nums\n"
      ],
      "metadata": {
        "id": "_1GL8MgISQyA"
      },
      "execution_count": null,
      "outputs": []
    },
    {
      "cell_type": "code",
      "execution_count": null,
      "metadata": {
        "id": "JGNEUqvcNs2U"
      },
      "outputs": [],
      "source": [
        "# nums = [5, 3, 8 , 6, 7, 2]"
      ]
    },
    {
      "cell_type": "code",
      "source": [
        "# bubblesort(nums)"
      ],
      "metadata": {
        "colab": {
          "base_uri": "https://localhost:8080/"
        },
        "id": "r8ZPPRBCSOK8",
        "outputId": "6f380a91-1abf-4c4c-cc7c-3eb7b518343f"
      },
      "execution_count": null,
      "outputs": [
        {
          "output_type": "execute_result",
          "data": {
            "text/plain": [
              "[8, 7, 6, 5, 3, 2]"
            ]
          },
          "metadata": {},
          "execution_count": 18
        }
      ]
    },
    {
      "cell_type": "code",
      "source": [
        "# nums"
      ],
      "metadata": {
        "colab": {
          "base_uri": "https://localhost:8080/"
        },
        "id": "gjhQkccGTPW9",
        "outputId": "b534d7fb-f47d-49e8-e13e-660e6169246b"
      },
      "execution_count": null,
      "outputs": [
        {
          "output_type": "execute_result",
          "data": {
            "text/plain": [
              "[2, 3, 5, 6, 7, 8]"
            ]
          },
          "metadata": {},
          "execution_count": 10
        }
      ]
    },
    {
      "cell_type": "code",
      "source": [
        "def merge_sort(arr):\n",
        "  if len(arr) > 1:\n",
        "    left_arr = arr[:len(arr)//2]\n",
        "    right_arr = arr[len(arr)//2:]\n",
        "\n",
        "    #recursion\n",
        "\n",
        "    merge_sort(left_arr)\n",
        "    merge_sort(right_arr)\n",
        "\n",
        "    #merge\n",
        "\n",
        "    i,j,k = 0,0,0\n",
        "\n",
        "    while i<len(left_arr) and j<len(right_arr):\n",
        "      if left_arr[i]<right_arr[j]:\n",
        "        arr[k] = left_arr[i]\n",
        "        i+=1\n",
        "      else:\n",
        "        arr[k] = right_arr[j]\n",
        "        j+=1\n",
        "      k+=1\n",
        "\n",
        "    while i<len(left_arr):\n",
        "      arr[k] = left_arr[i]\n",
        "      i+=1\n",
        "      k+=1\n",
        "\n",
        "    while j<len(right_arr):\n",
        "      arr[k] = right_arr[j]\n",
        "      j+=1\n",
        "      k+=1\n",
        "\n",
        "  return arr"
      ],
      "metadata": {
        "id": "yNPpzWrdTQzB"
      },
      "execution_count": 4,
      "outputs": []
    },
    {
      "cell_type": "code",
      "source": [
        "def reverse_merge_sort(arr):\n",
        "  if len(arr) > 1:\n",
        "    left_arr = arr[:len(arr)//2]\n",
        "    right_arr = arr[len(arr)//2:]\n",
        "\n",
        "    #recursion\n",
        "\n",
        "    reverse_merge_sort(left_arr)\n",
        "    reverse_merge_sort(right_arr)\n",
        "\n",
        "    #merge\n",
        "\n",
        "    i,j,k = 0,0,0\n",
        "\n",
        "    while i<len(left_arr) and j<len(right_arr):\n",
        "      if left_arr[i]>right_arr[j]:\n",
        "        arr[k] = left_arr[i]\n",
        "        i+=1\n",
        "      else:\n",
        "        arr[k] = right_arr[j]\n",
        "        j+=1\n",
        "      k+=1\n",
        "\n",
        "    while i<len(left_arr):\n",
        "      arr[k] = left_arr[i]\n",
        "      i+=1\n",
        "      k+=1\n",
        "\n",
        "    while j<len(right_arr):\n",
        "      arr[k] = right_arr[j]\n",
        "      j+=1\n",
        "      k+=1\n",
        "\n",
        "  return arr"
      ],
      "metadata": {
        "id": "dqY7xzJCoJqr"
      },
      "execution_count": 16,
      "outputs": []
    },
    {
      "cell_type": "code",
      "source": [
        "arr = [6, 3, 8 , 6, 7, 2, 1]"
      ],
      "metadata": {
        "id": "bBd2bz-FhGqD"
      },
      "execution_count": 7,
      "outputs": []
    },
    {
      "cell_type": "code",
      "source": [
        "merge_sort(arr)"
      ],
      "metadata": {
        "colab": {
          "base_uri": "https://localhost:8080/"
        },
        "id": "Zr78sEwGiyuT",
        "outputId": "e8fa4ee6-b867-4bf3-f5b9-01c223dda19a"
      },
      "execution_count": 8,
      "outputs": [
        {
          "output_type": "execute_result",
          "data": {
            "text/plain": [
              "[1, 2, 3, 6, 6, 7, 8]"
            ]
          },
          "metadata": {},
          "execution_count": 8
        }
      ]
    },
    {
      "cell_type": "code",
      "source": [
        "reverse_merge_sort(arr)"
      ],
      "metadata": {
        "colab": {
          "base_uri": "https://localhost:8080/"
        },
        "id": "S9qIdEE0i0wm",
        "outputId": "cfc3cc29-89d9-4f82-ce7c-6ad8cd596efb"
      },
      "execution_count": 17,
      "outputs": [
        {
          "output_type": "execute_result",
          "data": {
            "text/plain": [
              "[8, 7, 6, 6, 3, 2, 1]"
            ]
          },
          "metadata": {},
          "execution_count": 17
        }
      ]
    },
    {
      "cell_type": "code",
      "source": [],
      "metadata": {
        "id": "tlzZbrP8ocsI"
      },
      "execution_count": null,
      "outputs": []
    }
  ]
}